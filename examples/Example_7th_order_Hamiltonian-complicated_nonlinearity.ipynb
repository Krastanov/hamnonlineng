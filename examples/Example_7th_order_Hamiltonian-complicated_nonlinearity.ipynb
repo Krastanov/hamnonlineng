{
 "cells": [
  {
   "cell_type": "markdown",
   "metadata": {},
   "source": [
    "# Find frequencies that make only $(\\hat{a}^2\\hat{b}^2\\hat{e}^{2}+\\hat{a}\\hat{b}\\hat{d}\\hat{e}^{\\dagger3})\\hat{c}^\\dagger +h.c.$ resonant in the 7th order expansion of $\\sin(\\hat{a}+\\hat{b}+\\hat{c}+\\hat{d}-\\hat{e}+h.c.)+\\sin(\\hat{a}+\\hat{b}+\\hat{c}-\\hat{d}+\\hat{e}+h.c.)$"
   ]
  },
  {
   "cell_type": "markdown",
   "metadata": {},
   "source": [
    "Proceed as in the 5th order example."
   ]
  },
  {
   "cell_type": "code",
   "execution_count": 1,
   "metadata": {
    "collapsed": false
   },
   "outputs": [],
   "source": [
    "import hamnonlineng as hnle"
   ]
  },
  {
   "cell_type": "code",
   "execution_count": 2,
   "metadata": {
    "collapsed": true
   },
   "outputs": [],
   "source": [
    "letters = 'abcde'\n",
    "resonant = [hnle.Monomial(1, 'aabbeeC'), hnle.Monomial(1,'abdEEEC')]\n",
    "abc_sum = hnle.operator_sum('abc')"
   ]
  },
  {
   "cell_type": "code",
   "execution_count": 3,
   "metadata": {
    "collapsed": false
   },
   "outputs": [],
   "source": [
    "abc_pd_me = abc_sum + hnle.Monomial(1,'d') - hnle.Monomial(1,'e')\n",
    "abc_md_pe = abc_sum - hnle.Monomial(1,'d') + hnle.Monomial(1,'e')"
   ]
  },
  {
   "cell_type": "code",
   "execution_count": 4,
   "metadata": {
    "collapsed": false
   },
   "outputs": [
    {
     "name": "stdout",
     "output_type": "stream",
     "text": [
      "Number of off-resonant constraints: 3182\n"
     ]
    }
   ],
   "source": [
    "sine_exp = (\n",
    "            hnle.sin_terms(abc_pd_me, 3)\n",
    "           +hnle.sin_terms(abc_pd_me, 5)\n",
    "           +hnle.sin_terms(abc_pd_me, 7)\n",
    "           +hnle.sin_terms(abc_md_pe, 3)\n",
    "           +hnle.sin_terms(abc_md_pe, 5)\n",
    "           +hnle.sin_terms(abc_md_pe, 7)\n",
    "           )\n",
    "off_resonant = hnle.drop_single_mode(\n",
    "                 hnle.drop_definitely_offresonant(\n",
    "                   hnle.drop_matching(sine_exp.m, resonant)))\n",
    "off_resonant = list(off_resonant)\n",
    "print('Number of off-resonant constraints: %d'%len(off_resonant))"
   ]
  },
  {
   "cell_type": "markdown",
   "metadata": {},
   "source": [
    "Try to solve (takes around a minute):"
   ]
  },
  {
   "cell_type": "code",
   "execution_count": 5,
   "metadata": {
    "collapsed": false
   },
   "outputs": [
    {
     "name": "stdout",
     "output_type": "stream",
     "text": [
      "[1, 16, 44, 42, 5]\n",
      "[16, 1, 44, 42, 5]\n",
      "2 solutions.\n"
     ]
    }
   ],
   "source": [
    "res = hnle.head_and_count(\n",
    "        hnle.solve_constraints_gecode(resonant, off_resonant, letters, maxfreq=44))"
   ]
  },
  {
   "cell_type": "markdown",
   "metadata": {},
   "source": [
    "Solve it again, but now with linear programming methods and continuous values for the frequencies."
   ]
  },
  {
   "cell_type": "code",
   "execution_count": 6,
   "metadata": {
    "collapsed": false
   },
   "outputs": [
    {
     "name": "stdout",
     "output_type": "stream",
     "text": [
      "Adding resonant constraints...\n",
      "Adding off-resonant constraints...\n",
      "Adding distinct constraints...\n",
      "Dumping LP file...\n",
      "Solving...\n",
      "Status: 1 - Optimal\n"
     ]
    },
    {
     "data": {
      "text/plain": [
       "[1.0, 16.0, 44.0, 42.0, 5.0]"
      ]
     },
     "execution_count": 6,
     "metadata": {},
     "output_type": "execute_result"
    }
   ],
   "source": [
    "hnle.solve_linearprog_pulp(resonant, off_resonant, letters, maxfreq=50, detune=1)"
   ]
  },
  {
   "cell_type": "markdown",
   "metadata": {},
   "source": [
    "Calculate the detuning of all off-resonant terms and plot a histogram (x: detuning, y: number of terms with that detuning)."
   ]
  },
  {
   "cell_type": "code",
   "execution_count": 7,
   "metadata": {
    "collapsed": true
   },
   "outputs": [],
   "source": [
    "dets = hnle.detuning_of_monomial(res[0], off_resonant, letters)"
   ]
  },
  {
   "cell_type": "code",
   "execution_count": 8,
   "metadata": {
    "collapsed": true
   },
   "outputs": [],
   "source": [
    "%matplotlib inline\n",
    "import matplotlib.pyplot as plt"
   ]
  },
  {
   "cell_type": "code",
   "execution_count": 9,
   "metadata": {
    "collapsed": false
   },
   "outputs": [
    {
     "data": {
      "image/png": "[encoded data removed]",
      "text/plain": [
       "<matplotlib.figure.Figure at 0x7f79913046d0>"
      ]
     },
     "metadata": {},
     "output_type": "display_data"
    }
   ],
   "source": [
    "plt.hist(dets, bins=50, range=(0,50));"
   ]
  },
  {
   "cell_type": "code",
   "execution_count": 10,
   "metadata": {
    "collapsed": false
   },
   "outputs": [
    {
     "data": {
      "image/png": "[encoded data removed]",
      "text/plain": [
       "<matplotlib.figure.Figure at 0x7f7990a3f690>"
      ]
     },
     "metadata": {},
     "output_type": "display_data"
    }
   ],
   "source": [
    "plt.hist(dets, bins=50, range=(0,400));"
   ]
  }
 ],
 "metadata": {
  "kernelspec": {
   "display_name": "Python 2",
   "language": "python",
   "name": "python2"
  },
  "language_info": {
   "codemirror_mode": {
    "name": "ipython",
    "version": 2
   },
   "file_extension": ".py",
   "mimetype": "text/x-python",
   "name": "python",
   "nbconvert_exporter": "python",
   "pygments_lexer": "ipython2",
   "version": "2.7.9"
  }
 },
 "nbformat": 4,
 "nbformat_minor": 0
}
